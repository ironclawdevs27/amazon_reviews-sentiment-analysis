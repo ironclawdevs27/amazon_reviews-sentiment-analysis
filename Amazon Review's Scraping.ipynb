{
 "cells": [
  {
   "cell_type": "code",
   "execution_count": 3,
   "id": "7bf7346e",
   "metadata": {},
   "outputs": [
    {
     "ename": "TypeError",
     "evalue": "WebDriver.__init__() got an unexpected keyword argument 'executable_path'",
     "output_type": "error",
     "traceback": [
      "\u001b[1;31m---------------------------------------------------------------------------\u001b[0m",
      "\u001b[1;31mTypeError\u001b[0m                                 Traceback (most recent call last)",
      "Input \u001b[1;32mIn [3]\u001b[0m, in \u001b[0;36m<cell line: 10>\u001b[1;34m()\u001b[0m\n\u001b[0;32m      8\u001b[0m \u001b[38;5;66;03m# Set up Selenium WebDriver\u001b[39;00m\n\u001b[0;32m      9\u001b[0m driver_path \u001b[38;5;241m=\u001b[39m \u001b[38;5;124m'\u001b[39m\u001b[38;5;124mC:/Windows/chromedriver-win64/chromedriver.exe\u001b[39m\u001b[38;5;124m'\u001b[39m  \u001b[38;5;66;03m# Replace with the path to your WebDriver\u001b[39;00m\n\u001b[1;32m---> 10\u001b[0m driver \u001b[38;5;241m=\u001b[39m \u001b[43mwebdriver\u001b[49m\u001b[38;5;241;43m.\u001b[39;49m\u001b[43mChrome\u001b[49m\u001b[43m(\u001b[49m\u001b[43mexecutable_path\u001b[49m\u001b[38;5;241;43m=\u001b[39;49m\u001b[43mdriver_path\u001b[49m\u001b[43m)\u001b[49m\n\u001b[0;32m     12\u001b[0m \u001b[38;5;66;03m# URL of the Amazon product\u001b[39;00m\n\u001b[0;32m     13\u001b[0m url \u001b[38;5;241m=\u001b[39m \u001b[38;5;124m'\u001b[39m\u001b[38;5;124mhttps://www.amazon.in/Casio-Vintage-Digital-Grey-Watch-A158WA-1Q/dp/B000GAYQJ0/ref=lp_3965458031_1_1?pf_rd_p=9e034799-55e2-4ab2-b0d0-eb42f95b2d05&pf_rd_r=MXBKHEHVMCAKVHPQKYRN\u001b[39m\u001b[38;5;124m'\u001b[39m\n",
      "\u001b[1;31mTypeError\u001b[0m: WebDriver.__init__() got an unexpected keyword argument 'executable_path'"
     ]
    }
   ],
   "source": [
    "from selenium import webdriver\n",
    "from webdriver_manager.chrome import ChromeDriverManager\n",
    "from selenium.webdriver.chrome.service import Service\n",
    "from bs4 import BeautifulSoup\n",
    "import pandas as pd\n",
    "import time\n",
    "\n",
    "# Set up Selenium WebDriver\n",
    "driver_path = 'C:/Windows/chromedriver-win64/chromedriver.exe'  # Replace with the path to your WebDriver\n",
    "driver = webdriver.Chrome(executable_path=driver_path)\n",
    "\n",
    "# URL of the Amazon product\n",
    "url = 'https://www.amazon.in/Casio-Vintage-Digital-Grey-Watch-A158WA-1Q/dp/B000GAYQJ0/ref=lp_3965458031_1_1?pf_rd_p=9e034799-55e2-4ab2-b0d0-eb42f95b2d05&pf_rd_r=MXBKHEHVMCAKVHPQKYRN'\n",
    "\n",
    "# Function to get the soup object\n",
    "def get_soup(url):\n",
    "    driver.get(url)\n",
    "    time.sleep(2)  # Adding delay to allow the page to load\n",
    "    soup = BeautifulSoup(driver.page_source, 'html.parser')\n",
    "    return soup\n",
    "\n",
    "# Function to extract reviews from a page\n",
    "def extract_reviews(soup):\n",
    "    reviews = []\n",
    "    review_blocks = soup.find_all('div', {'data-hook': 'review'})\n",
    "    for block in review_blocks:\n",
    "        review = block.find('span', {'data-hook': 'review-body'}).text.strip()\n",
    "        reviews.append(review)\n",
    "    return reviews\n",
    "\n",
    "# Function to get the next page URL\n",
    "def get_next_page(soup):\n",
    "    next_page = soup.find('li', {'class': 'a-last'})\n",
    "    if next_page and next_page.find('a'):\n",
    "        return 'https://www.amazon.com' + next_page.find('a')['href']\n",
    "    return None\n",
    "\n",
    "# Main function to scrape all reviews\n",
    "def scrape_all_reviews(url):\n",
    "    all_reviews = []\n",
    "    while url:\n",
    "        soup = get_soup(url)\n",
    "        reviews = extract_reviews(soup)\n",
    "        all_reviews.extend(reviews)\n",
    "        url = get_next_page(soup)\n",
    "    return all_reviews\n",
    "\n",
    "# Scrape reviews\n",
    "reviews = scrape_all_reviews(url)\n",
    "\n",
    "# Close the driver\n",
    "driver.quit()\n",
    "\n",
    "# Save reviews to a DataFrame and export to CSV\n",
    "df = pd.DataFrame(reviews, columns=['Review'])\n",
    "df.to_csv('amazon_reviews.csv', index=False)\n",
    "\n",
    "print(\"Scraping complete. Reviews saved to amazon_reviews.csv.\")"
   ]
  },
  {
   "cell_type": "code",
   "execution_count": null,
   "id": "8a7fb25e",
   "metadata": {},
   "outputs": [],
   "source": [
    "data = pd.read_csv(\"amazon_reviews.csv\")\n",
    "data"
   ]
  },
  {
   "cell_type": "code",
   "execution_count": null,
   "id": "3d92ffc8",
   "metadata": {},
   "outputs": [],
   "source": []
  }
 ],
 "metadata": {
  "kernelspec": {
   "display_name": "Python 3 (ipykernel)",
   "language": "python",
   "name": "python3"
  },
  "language_info": {
   "codemirror_mode": {
    "name": "ipython",
    "version": 3
   },
   "file_extension": ".py",
   "mimetype": "text/x-python",
   "name": "python",
   "nbconvert_exporter": "python",
   "pygments_lexer": "ipython3",
   "version": "3.10.5"
  }
 },
 "nbformat": 4,
 "nbformat_minor": 5
}
